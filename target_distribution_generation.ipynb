{
 "cells": [
  {
   "cell_type": "code",
   "execution_count": null,
   "id": "ca2c2d66",
   "metadata": {},
   "outputs": [],
   "source": [
    "dists = 'data/extreme_distributions.csv'\n",
    "\n",
    "import pandas as pd\n",
    "\n",
    "dist_df = pd.read_csv(dists, sep='\\t')"
   ]
  },
  {
   "cell_type": "code",
   "execution_count": 40,
   "id": "e6437aa3",
   "metadata": {},
   "outputs": [],
   "source": [
    "keywords = dist_df.Country.to_list()[:14]\n",
    "# target_idxs = [0, 1, 2, 3, 4, 5, 6, 7, 8, 9, 10, 11]\n",
    "\n",
    "def make_close_fnames(keyword):\n",
    "    num_list = [i for i in range(2, 11)]\n",
    "    list_current = [f'{keyword}', f'close_{keyword}']\n",
    "    list_current.extend([f'close_{keyword}_{num}' for num in num_list])\n",
    "    return list_current\n",
    "\n",
    "target_idxs = [0, 3, 7, 10]\n",
    "entire = []\n",
    "\n",
    "for keyword in keywords:\n",
    "    current_entire = make_close_fnames(keyword)\n",
    "    # current_entire = [ target idxs에 해당하는 entry만 ]\n",
    "    current_entire = [current_entire[i] for i in target_idxs]\n",
    "    entire.extend(current_entire)\n"
   ]
  },
  {
   "cell_type": "code",
   "execution_count": 42,
   "id": "24bef7c0",
   "metadata": {},
   "outputs": [],
   "source": [
    "# bash에서 list로 열 수 있는 형태로 저장\n",
    "with open('target_distribution_names.txt', 'w') as f:\n",
    "    for i in entire:\n",
    "        f.write(f'{i}\\n')"
   ]
  }
 ],
 "metadata": {
  "kernelspec": {
   "display_name": "vim",
   "language": "python",
   "name": "python3"
  },
  "language_info": {
   "codemirror_mode": {
    "name": "ipython",
    "version": 3
   },
   "file_extension": ".py",
   "mimetype": "text/x-python",
   "name": "python",
   "nbconvert_exporter": "python",
   "pygments_lexer": "ipython3",
   "version": "3.9.18"
  }
 },
 "nbformat": 4,
 "nbformat_minor": 5
}
